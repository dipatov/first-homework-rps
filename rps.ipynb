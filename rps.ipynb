{
 "cells": [
  {
   "cell_type": "code",
   "execution_count": 7,
   "metadata": {},
   "outputs": [
    {
     "name": "stdout",
     "output_type": "stream",
     "text": [
      "\u001b[33mDEPRECATION: Configuring installation scheme with distutils config files is deprecated and will no longer work in the near future. If you are using a Homebrew or Linuxbrew Python, please see discussion at https://github.com/Homebrew/homebrew-core/issues/76621\u001b[0m\u001b[33m\n",
      "\u001b[0m\u001b[33mDEPRECATION: Configuring installation scheme with distutils config files is deprecated and will no longer work in the near future. If you are using a Homebrew or Linuxbrew Python, please see discussion at https://github.com/Homebrew/homebrew-core/issues/76621\u001b[0m\u001b[33m\n",
      "\u001b[0m"
     ]
    }
   ],
   "source": [
    "!pip install -q -U kaggle_environments"
   ]
  },
  {
   "cell_type": "code",
   "execution_count": 8,
   "metadata": {},
   "outputs": [],
   "source": [
    "import numpy as np\n",
    "import pandas as pd\n",
    "import random\n",
    "\n",
    "import matplotlib.pyplot as plt\n",
    "import seaborn as sns\n",
    "\n",
    "from kaggle_environments import make, evaluate"
   ]
  },
  {
   "cell_type": "markdown",
   "metadata": {},
   "source": [
    "1) Агент, который играет только камнями"
   ]
  },
  {
   "cell_type": "code",
   "execution_count": 9,
   "metadata": {},
   "outputs": [
    {
     "name": "stdout",
     "output_type": "stream",
     "text": [
      "Writing rock_agent.py\n"
     ]
    }
   ],
   "source": [
    "%%writefile rock_agent.py\n",
    "\n",
    "def rock_agent(observation, configuration):\n",
    "    return 0\n"
   ]
  },
  {
   "cell_type": "markdown",
   "metadata": {},
   "source": [
    "2) Агент, который играет только бумагой"
   ]
  },
  {
   "cell_type": "code",
   "execution_count": 10,
   "metadata": {},
   "outputs": [
    {
     "name": "stdout",
     "output_type": "stream",
     "text": [
      "Writing paper_agent.py\n"
     ]
    }
   ],
   "source": [
    "%%writefile paper_agent.py\n",
    "\n",
    "def paper_agent(observation, configuration):\n",
    "    return 1\n"
   ]
  },
  {
   "cell_type": "markdown",
   "metadata": {},
   "source": [
    "3) Агент, который играет только ножницами"
   ]
  },
  {
   "cell_type": "code",
   "execution_count": 11,
   "metadata": {},
   "outputs": [
    {
     "name": "stdout",
     "output_type": "stream",
     "text": [
      "Writing scissors_agent.py\n"
     ]
    }
   ],
   "source": [
    "%%writefile scissors_agent.py\n",
    "\n",
    "def scissors_agent(observation, configuration):\n",
    "    return 2\n"
   ]
  },
  {
   "cell_type": "markdown",
   "metadata": {},
   "source": [
    "4) Агент, который повторяет последний ход противника"
   ]
  },
  {
   "cell_type": "code",
   "execution_count": 12,
   "metadata": {},
   "outputs": [
    {
     "name": "stdout",
     "output_type": "stream",
     "text": [
      "Writing copy_opponent.py\n"
     ]
    }
   ],
   "source": [
    "%%writefile copy_opponent.py\n",
    "import random\n",
    "\n",
    "def copy_opponent(observation, configuration):\n",
    "    if observation.step > 0:\n",
    "        return observation.lastOpponentAction\n",
    "    else:\n",
    "        return random.randint(0, 2)\n"
   ]
  },
  {
   "cell_type": "markdown",
   "metadata": {},
   "source": [
    "5) Агент, который совершает выигрышный ход на прошлый ход противника"
   ]
  },
  {
   "cell_type": "code",
   "execution_count": 13,
   "metadata": {},
   "outputs": [
    {
     "name": "stdout",
     "output_type": "stream",
     "text": [
      "Writing do_opposite.py\n"
     ]
    }
   ],
   "source": [
    "%%writefile do_opposite.py\n",
    "import random\n",
    "\n",
    "def find_opposite(choice):\n",
    "    return (choice + 1) % 3\n",
    "\n",
    "def do_opposite(observation, configuration):\n",
    "    if observation.step > 0:\n",
    "        return find_opposite(observation.lastOpponentAction)\n",
    "    else:\n",
    "        return random.randint(0, 2)\n"
   ]
  },
  {
   "cell_type": "markdown",
   "metadata": {},
   "source": [
    "6) Агент, который выбирает камень, ножницы, бумагу случайно"
   ]
  },
  {
   "cell_type": "code",
   "execution_count": 14,
   "metadata": {},
   "outputs": [
    {
     "name": "stdout",
     "output_type": "stream",
     "text": [
      "Writing do_random.py\n"
     ]
    }
   ],
   "source": [
    "%%writefile do_random.py\n",
    "import random\n",
    "\n",
    "def do_random(observation, configuration):\n",
    "    return random.randint(0, 2)\n"
   ]
  },
  {
   "cell_type": "markdown",
   "metadata": {},
   "source": [
    "7) Агент, который выбирает камень, ножницы, бумагу по кругу"
   ]
  },
  {
   "cell_type": "code",
   "execution_count": 15,
   "metadata": {},
   "outputs": [
    {
     "name": "stdout",
     "output_type": "stream",
     "text": [
      "Writing cycle_agent.py\n"
     ]
    }
   ],
   "source": [
    "%%writefile cycle_agent.py\n",
    "from itertools import cycle\n",
    "\n",
    "c = cycle([0, 1, 2])\n",
    "\n",
    "def cycle_agent(observation, configuration):\n",
    "    global c\n",
    "    \n",
    "    if observation.step == 0:\n",
    "        c = cycle([0, 1, 2])\n",
    "    \n",
    "    return next(c)\n"
   ]
  },
  {
   "cell_type": "markdown",
   "metadata": {},
   "source": [
    "8) Агент, который выбирает случайное действие, основываясь на предыдущих ходах противника, и совершает выигрышное действие на него"
   ]
  },
  {
   "cell_type": "code",
   "execution_count": 16,
   "metadata": {},
   "outputs": [
    {
     "name": "stdout",
     "output_type": "stream",
     "text": [
      "Writing choice_random_from_actions_opponent.py\n"
     ]
    }
   ],
   "source": [
    "%%writefile choice_random_from_actions_opponent.py\n",
    "import random\n",
    "\n",
    "actions = []\n",
    "\n",
    "def find_opposite(choice):\n",
    "    return (choice + 1) % 3\n",
    "\n",
    "def choice_random_from_actions_opponent(observation, configuration):\n",
    "    global actions\n",
    "    \n",
    "    if observation.step > 0:\n",
    "        actions.append(observation.lastOpponentAction)\n",
    "        return find_opposite(random.choice(actions))\n",
    "    else:\n",
    "        actions = []\n",
    "        return random.randint(0, 2)\n"
   ]
  },
  {
   "cell_type": "markdown",
   "metadata": {},
   "source": [
    "9) Агент, который совершает только выигрышное действие на самый первый ход противника"
   ]
  },
  {
   "cell_type": "code",
   "execution_count": 17,
   "metadata": {},
   "outputs": [
    {
     "name": "stdout",
     "output_type": "stream",
     "text": [
      "Writing first_action_agent.py\n"
     ]
    }
   ],
   "source": [
    "%%writefile first_action_agent.py\n",
    "import random\n",
    "\n",
    "first_action = None\n",
    "\n",
    "def find_opposite(choice):\n",
    "    return (choice + 1) % 3\n",
    "\n",
    "def first_action_agent(observation, configuration):\n",
    "    global first_action\n",
    "    \n",
    "    if observation.step == 1:\n",
    "        first_action = find_opposite(observation.lastOpponentAction)\n",
    "    if observation.step > 0:\n",
    "        return first_action\n",
    "    else:\n",
    "        first_action = None\n",
    "        return random.randint(0, 2)\n"
   ]
  },
  {
   "cell_type": "markdown",
   "metadata": {},
   "source": [
    "10) Агент, который выбирает случайное действие между камнем и бумагой"
   ]
  },
  {
   "cell_type": "code",
   "execution_count": 18,
   "metadata": {},
   "outputs": [
    {
     "name": "stdout",
     "output_type": "stream",
     "text": [
      "Writing choose_random_from_two.py\n"
     ]
    }
   ],
   "source": [
    "%%writefile choose_random_from_two.py\n",
    "import random\n",
    "\n",
    "def choose_random_from_two(observation, configuration):\n",
    "    return random.randint(0, 1)"
   ]
  },
  {
   "cell_type": "markdown",
   "metadata": {},
   "source": [
    "11) Агент, который играет \"елочкой\" с циклами, то есть ходы его следующие (подряд):\n",
    "\n",
    "0\n",
    "\n",
    "1 1\n",
    "\n",
    "2 2 2\n",
    "\n",
    "0 0 0 0\n",
    "\n",
    "1 1 1 1 1\n",
    "\n",
    "..."
   ]
  },
  {
   "cell_type": "code",
   "execution_count": 19,
   "metadata": {},
   "outputs": [
    {
     "name": "stdout",
     "output_type": "stream",
     "text": [
      "Writing christmas_tree_agent.py\n"
     ]
    }
   ],
   "source": [
    "%%writefile christmas_tree_agent.py\n",
    "from itertools import count, cycle\n",
    "\n",
    "def christmas_tree():\n",
    "    it_count = count(1)\n",
    "    it_cycle = cycle((0, 1, 2))\n",
    "    act = next(it_cycle)\n",
    "\n",
    "    for i in it_count:\n",
    "        for j in range(i):\n",
    "            yield act\n",
    "        act = next(it_cycle)\n",
    "\n",
    "it_christmas_tree = christmas_tree()\n",
    "\n",
    "def christmas_tree_agent(observation, configuration):\n",
    "    global it_christmas_tree\n",
    "\n",
    "    if observation.step == 0:\n",
    "        it_christmas_tree = christmas_tree()\n",
    "\n",
    "    return next(it_christmas_tree)\n"
   ]
  },
  {
   "cell_type": "markdown",
   "metadata": {},
   "source": [
    "12) Агент, который выбирает самое частое действие противника, и совершает выигрышное на него"
   ]
  },
  {
   "cell_type": "code",
   "execution_count": 20,
   "metadata": {},
   "outputs": [
    {
     "name": "stdout",
     "output_type": "stream",
     "text": [
      "Writing agent_the_most_common.py\n"
     ]
    }
   ],
   "source": [
    "%%writefile agent_the_most_common.py\n",
    "import random\n",
    "\n",
    "actions = {}\n",
    "\n",
    "def find_opposite(choice):\n",
    "    return (choice + 1) % 3\n",
    "\n",
    "def choose_actions(actions):\n",
    "    m = max(actions.values())\n",
    "    for k, value in actions.items():\n",
    "        if value == m:\n",
    "            return find_opposite(k)\n",
    "\n",
    "def agent_the_most_common(observation, configuration):\n",
    "    global actions\n",
    "    \n",
    "    if observation.step == 0:\n",
    "        actions = {}\n",
    "        return random.randint(0, 2)\n",
    "    else:\n",
    "        last_action = observation.lastOpponentAction\n",
    "        if last_action not in actions:\n",
    "            actions[last_action] = 0\n",
    "        actions[last_action] += 1\n",
    "        return choose_actions(actions)\n",
    "        "
   ]
  },
  {
   "cell_type": "markdown",
   "metadata": {},
   "source": [
    "13) Агент, который выбирает самое редкое действие действие противника"
   ]
  },
  {
   "cell_type": "code",
   "execution_count": 21,
   "metadata": {},
   "outputs": [
    {
     "name": "stdout",
     "output_type": "stream",
     "text": [
      "Writing agent_the_least_common.py\n"
     ]
    }
   ],
   "source": [
    "%%writefile agent_the_least_common.py\n",
    "import random\n",
    "\n",
    "actions = {}\n",
    "\n",
    "def choose_actions(actions):\n",
    "    m = min(actions.values())\n",
    "    for k, value in actions.items():\n",
    "        if value == m:\n",
    "            return k\n",
    "\n",
    "def agent_the_least_common(observation, configuration):\n",
    "    global actions\n",
    "    \n",
    "    if observation.step == 0:\n",
    "        actions = {}\n",
    "        return random.randint(0, 2)\n",
    "    else:\n",
    "        last_action = observation.lastOpponentAction\n",
    "        if last_action not in actions:\n",
    "            actions[last_action] = 0\n",
    "        actions[last_action] += 1\n",
    "        return choose_actions(actions)\n",
    "        "
   ]
  },
  {
   "cell_type": "code",
   "execution_count": 22,
   "metadata": {},
   "outputs": [],
   "source": [
    "agents = [\n",
    "    'rock_agent.py',\n",
    "    'paper_agent.py',\n",
    "    'scissors_agent.py',\n",
    "    'copy_opponent.py',\n",
    "    'do_opposite.py',\n",
    "    'do_random.py',\n",
    "    'cycle_agent.py',\n",
    "    'choice_random_from_actions_opponent.py',\n",
    "    'first_action_agent.py',\n",
    "    'choose_random_from_two.py',\n",
    "    'christmas_tree_agent.py',\n",
    "    'agent_the_most_common.py',\n",
    "    'agent_the_least_common.py',\n",
    "]"
   ]
  },
  {
   "cell_type": "code",
   "execution_count": 25,
   "metadata": {},
   "outputs": [],
   "source": [
    "agents_winners = {}\n",
    "for agent in agents:\n",
    "    agents_winners[agent] = 0\n",
    "\n",
    "for i in range(len(agents)):\n",
    "    for j in range(i + 1, len(agents)):\n",
    "        res = evaluate(\n",
    "            \"rps\",\n",
    "            [agents[i], agents[j]],\n",
    "            configuration={\"episodeSteps\": 1000}\n",
    "        )[0]\n",
    "        if res[0] > 0:\n",
    "            agents_winners[agents[i]] += 1\n",
    "        elif res[1] > 0:\n",
    "            agents_winners[agents[j]] += 1"
   ]
  },
  {
   "cell_type": "code",
   "execution_count": 32,
   "metadata": {},
   "outputs": [],
   "source": [
    "df_winners = pd.DataFrame().from_dict(agents_winners, orient='index').rename(columns={0:'win'})"
   ]
  },
  {
   "cell_type": "code",
   "execution_count": 36,
   "metadata": {},
   "outputs": [
    {
     "data": {
      "text/html": [
       "<div>\n",
       "<style scoped>\n",
       "    .dataframe tbody tr th:only-of-type {\n",
       "        vertical-align: middle;\n",
       "    }\n",
       "\n",
       "    .dataframe tbody tr th {\n",
       "        vertical-align: top;\n",
       "    }\n",
       "\n",
       "    .dataframe thead th {\n",
       "        text-align: right;\n",
       "    }\n",
       "</style>\n",
       "<table border=\"1\" class=\"dataframe\">\n",
       "  <thead>\n",
       "    <tr style=\"text-align: right;\">\n",
       "      <th></th>\n",
       "      <th>win</th>\n",
       "    </tr>\n",
       "  </thead>\n",
       "  <tbody>\n",
       "    <tr>\n",
       "      <th>do_opposite.py</th>\n",
       "      <td>10</td>\n",
       "    </tr>\n",
       "    <tr>\n",
       "      <th>choice_random_from_actions_opponent.py</th>\n",
       "      <td>8</td>\n",
       "    </tr>\n",
       "    <tr>\n",
       "      <th>agent_the_most_common.py</th>\n",
       "      <td>8</td>\n",
       "    </tr>\n",
       "    <tr>\n",
       "      <th>first_action_agent.py</th>\n",
       "      <td>4</td>\n",
       "    </tr>\n",
       "    <tr>\n",
       "      <th>choose_random_from_two.py</th>\n",
       "      <td>3</td>\n",
       "    </tr>\n",
       "    <tr>\n",
       "      <th>christmas_tree_agent.py</th>\n",
       "      <td>3</td>\n",
       "    </tr>\n",
       "    <tr>\n",
       "      <th>paper_agent.py</th>\n",
       "      <td>2</td>\n",
       "    </tr>\n",
       "    <tr>\n",
       "      <th>do_random.py</th>\n",
       "      <td>2</td>\n",
       "    </tr>\n",
       "    <tr>\n",
       "      <th>agent_the_least_common.py</th>\n",
       "      <td>2</td>\n",
       "    </tr>\n",
       "    <tr>\n",
       "      <th>rock_agent.py</th>\n",
       "      <td>1</td>\n",
       "    </tr>\n",
       "    <tr>\n",
       "      <th>scissors_agent.py</th>\n",
       "      <td>1</td>\n",
       "    </tr>\n",
       "    <tr>\n",
       "      <th>copy_opponent.py</th>\n",
       "      <td>1</td>\n",
       "    </tr>\n",
       "    <tr>\n",
       "      <th>cycle_agent.py</th>\n",
       "      <td>1</td>\n",
       "    </tr>\n",
       "  </tbody>\n",
       "</table>\n",
       "</div>"
      ],
      "text/plain": [
       "                                        win\n",
       "do_opposite.py                           10\n",
       "choice_random_from_actions_opponent.py    8\n",
       "agent_the_most_common.py                  8\n",
       "first_action_agent.py                     4\n",
       "choose_random_from_two.py                 3\n",
       "christmas_tree_agent.py                   3\n",
       "paper_agent.py                            2\n",
       "do_random.py                              2\n",
       "agent_the_least_common.py                 2\n",
       "rock_agent.py                             1\n",
       "scissors_agent.py                         1\n",
       "copy_opponent.py                          1\n",
       "cycle_agent.py                            1"
      ]
     },
     "execution_count": 36,
     "metadata": {},
     "output_type": "execute_result"
    }
   ],
   "source": [
    "df_winners.sort_values(by='win', ascending=False)"
   ]
  },
  {
   "cell_type": "markdown",
   "metadata": {},
   "source": [
    "# Победил агент, который делал выигрышные действия, основываясь на прошлом действии противника"
   ]
  },
  {
   "cell_type": "code",
   "execution_count": null,
   "metadata": {},
   "outputs": [],
   "source": []
  }
 ],
 "metadata": {
  "kernelspec": {
   "display_name": "Python 3",
   "language": "python",
   "name": "python3"
  },
  "language_info": {
   "codemirror_mode": {
    "name": "ipython",
    "version": 3
   },
   "file_extension": ".py",
   "mimetype": "text/x-python",
   "name": "python",
   "nbconvert_exporter": "python",
   "pygments_lexer": "ipython3",
   "version": "3.8.5"
  }
 },
 "nbformat": 4,
 "nbformat_minor": 4
}
